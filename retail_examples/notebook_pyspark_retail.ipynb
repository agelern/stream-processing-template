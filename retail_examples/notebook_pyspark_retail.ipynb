{
 "cells": [
  {
   "cell_type": "code",
   "execution_count": 1,
   "metadata": {},
   "outputs": [
    {
     "name": "stderr",
     "output_type": "stream",
     "text": [
      "23/12/13 14:28:22 WARN NativeCodeLoader: Unable to load native-hadoop library for your platform... using builtin-java classes where applicable\n",
      "Setting default log level to \"WARN\".\n",
      "To adjust logging level use sc.setLogLevel(newLevel). For SparkR, use setLogLevel(newLevel).\n",
      "/usr/local/lib/python3.7/site-packages/pyspark/context.py:317: FutureWarning: Python 3.7 support is deprecated in Spark 3.4.\n",
      "  warnings.warn(\"Python 3.7 support is deprecated in Spark 3.4.\", FutureWarning)\n"
     ]
    }
   ],
   "source": [
    "from pyspark.sql import SparkSession\n",
    "from pyspark.sql.types import StringType, StructType, StructField, TimestampType, IntegerType\n",
    "from pyspark.sql.functions import from_json, col\n",
    "\n",
    "# Define the path to the jars on the EC2 instance\n",
    "spark_jars_path = \"/home/ec2-user/stream-processing-template/jars\"  # <-- Update this path\n",
    "\n",
    "spark = SparkSession.builder.appName(\"retail_pysaprk_consumer\") \\\n",
    "    .config(\"spark.jars\", f\"{spark_jars_path}/commons-pool2-2.11.1.jar,\"\n",
    "            f\"{spark_jars_path}/spark-sql-kafka-0-10_2.12-3.4.0.jar,\"\n",
    "            f\"{spark_jars_path}/spark-streaming-kafka-0-10-assembly_2.12-3.4.0.jar\") \\\n",
    "    .getOrCreate()\n"
   ]
  },
  {
   "cell_type": "code",
   "execution_count": 2,
   "metadata": {},
   "outputs": [],
   "source": [
    "import time\n",
    "# Define the schema for our data\n",
    "schema = StructType([\n",
    "    StructField(\"store_location\", StringType(), True),\n",
    "    StructField(\"time_of_purchase\", TimestampType(), True),\n",
    "    StructField(\"product_ID\", StringType(), True),\n",
    "    StructField(\"transaction_amount\", IntegerType(), True)\n",
    "])\n",
    "\n",
    "# Stream from Kafka topic\n",
    "df = spark.readStream \\\n",
    "    .format(\"kafka\") \\\n",
    "    .option(\"kafka.bootstrap.servers\", \"b-1.monstercluster1.6xql65.c3.kafka.eu-west-2.amazonaws.com:9092\") \\\n",
    "    .option(\"subscribe\", \"retail_transactions\") \\\n",
    "    .load()"
   ]
  },
  {
   "cell_type": "code",
   "execution_count": 3,
   "metadata": {},
   "outputs": [
    {
     "name": "stderr",
     "output_type": "stream",
     "text": [
      "23/12/13 14:28:33 WARN ResolveWriteToStream: Temporary checkpoint location created which is deleted normally when the query didn't fail: /tmp/temporary-eae6571e-e30e-47a4-92a2-dc07017279ac. If it's required to delete it under any circumstances, please set spark.sql.streaming.forceDeleteTempCheckpointLocation to true. Important to know deleting temp checkpoint folder is best effort.\n",
      "23/12/13 14:28:33 WARN ResolveWriteToStream: spark.sql.adaptive.enabled is not supported in streaming DataFrames/Datasets and will be disabled.\n",
      "23/12/13 14:28:37 WARN AdminClientConfig: These configurations '[key.deserializer, value.deserializer, enable.auto.commit, max.poll.records, auto.offset.reset]' were supplied but are not used yet.\n",
      "                                                                                \r"
     ]
    },
    {
     "data": {
      "text/plain": [
       "False"
      ]
     },
     "execution_count": 3,
     "metadata": {},
     "output_type": "execute_result"
    }
   ],
   "source": [
    "transactions = (df.selectExpr(\"CAST(value AS STRING)\")\n",
    "                .withColumn(\"data\", from_json(col(\"value\"), schema))\n",
    "                .select(\"data.*\").limit(10))\n",
    "\n",
    "query = transactions.writeStream \\\n",
    "    .format(\"memory\") \\\n",
    "    .queryName(\"query_1\") \\\n",
    "    .start()\n",
    "\n",
    "query.awaitTermination(15)"
   ]
  },
  {
   "cell_type": "code",
   "execution_count": 4,
   "metadata": {},
   "outputs": [],
   "source": [
    "processed_data = spark.sql(\"SELECT * FROM query_1\")"
   ]
  },
  {
   "cell_type": "code",
   "execution_count": 5,
   "metadata": {},
   "outputs": [
    {
     "name": "stderr",
     "output_type": "stream",
     "text": [
      "                                                                                \r"
     ]
    }
   ],
   "source": [
    "from pyspark.sql.functions import col\n",
    "from pyspark.sql.types import DoubleType\n",
    "\n",
    "transactions = processed_data.withColumn(\"transaction_amount\", col(\"transaction_amount\").cast(DoubleType()))\n",
    "df = transactions.toPandas()"
   ]
  },
  {
   "cell_type": "code",
   "execution_count": 6,
   "metadata": {},
   "outputs": [
    {
     "name": "stderr",
     "output_type": "stream",
     "text": [
      "                                                                                \r"
     ]
    },
    {
     "name": "stdout",
     "output_type": "stream",
     "text": [
      "+--------------+------------+\n",
      "|store_location|total_amount|\n",
      "+--------------+------------+\n",
      "|       Phoenix|       360.0|\n",
      "|   San Antonio|      1701.0|\n",
      "|   Los Angeles|       637.0|\n",
      "|       Chicago|      -578.0|\n",
      "+--------------+------------+\n",
      "\n"
     ]
    }
   ],
   "source": [
    "from pyspark.sql.functions import sum\n",
    "total_transactions = transactions.groupBy(\"store_location\").agg(sum(\"transaction_amount\").alias(\"total_amount\"))\n",
    "total_transactions.show()"
   ]
  },
  {
   "cell_type": "code",
   "execution_count": 7,
   "metadata": {},
   "outputs": [
    {
     "name": "stderr",
     "output_type": "stream",
     "text": [
      "                                                                                \r"
     ]
    },
    {
     "name": "stdout",
     "output_type": "stream",
     "text": [
      "+--------------+-----------------+\n",
      "|store_location|transaction_count|\n",
      "+--------------+-----------------+\n",
      "|       Phoenix|                2|\n",
      "|   San Antonio|                4|\n",
      "|   Los Angeles|                1|\n",
      "|       Chicago|                1|\n",
      "+--------------+-----------------+\n",
      "\n"
     ]
    }
   ],
   "source": [
    "transaction_counts = transactions.groupBy(\"store_location\").count().withColumnRenamed(\"count\", \"transaction_count\")\n",
    "transaction_counts.show()"
   ]
  },
  {
   "cell_type": "code",
   "execution_count": 8,
   "metadata": {},
   "outputs": [
    {
     "name": "stdout",
     "output_type": "stream",
     "text": [
      "+--------------+--------------+\n",
      "|store_location|average_amount|\n",
      "+--------------+--------------+\n",
      "|       Phoenix|         318.0|\n",
      "|   San Antonio|         494.5|\n",
      "|   Los Angeles|         637.0|\n",
      "|       Chicago|        -578.0|\n",
      "+--------------+--------------+\n",
      "\n"
     ]
    }
   ],
   "source": [
    "from pyspark.sql.functions import avg\n",
    "average_transactions = transactions.groupBy(\"store_location\").agg(avg(\"transaction_amount\").alias(\"average_amount\"))\n",
    "average_transactions.show()"
   ]
  },
  {
   "cell_type": "code",
   "execution_count": 9,
   "metadata": {},
   "outputs": [
    {
     "name": "stdout",
     "output_type": "stream",
     "text": [
      "+--------------+-------------------+----------+------------------+-----------------+\n",
      "|store_location|   time_of_purchase|product_ID|transaction_amount|discounted_amount|\n",
      "+--------------+-------------------+----------+------------------+-----------------+\n",
      "|       Phoenix|2023-12-13 14:28:39|    P00076|              22.0|             19.8|\n",
      "|       Chicago|2023-12-13 14:28:41|    P00037|            -578.0|           -520.2|\n",
      "|   San Antonio|2023-12-13 14:28:43|    P00070|             901.0|            810.9|\n",
      "|   Los Angeles|2023-12-13 14:28:45|    P00037|             637.0|573.3000000000001|\n",
      "|   San Antonio|2023-12-13 14:28:48|    P00037|             473.0|            425.7|\n",
      "|   San Antonio|2023-12-13 14:28:50|    P00001|             327.0|            294.3|\n",
      "|       Phoenix|2023-12-13 14:28:52|    P00025|             338.0|            304.2|\n",
      "|   San Antonio|2023-12-13 14:28:54|    P00050|             277.0|            249.3|\n",
      "|       Phoenix|2023-12-13 14:28:56|    P00055|             594.0|            534.6|\n",
      "+--------------+-------------------+----------+------------------+-----------------+\n",
      "\n"
     ]
    }
   ],
   "source": [
    "with_discount = transactions.withColumn(\"discounted_amount\", col('transaction_amount') * 0.9)\n",
    "with_discount.show()"
   ]
  },
  {
   "cell_type": "code",
   "execution_count": 10,
   "metadata": {},
   "outputs": [
    {
     "name": "stdout",
     "output_type": "stream",
     "text": [
      "+--------------+-------------------+----------+------------------+-----------------+\n",
      "|store_location|   time_of_purchase|product_ID|transaction_amount|discounted_amount|\n",
      "+--------------+-------------------+----------+------------------+-----------------+\n",
      "|       Phoenix|2023-12-13 14:28:39|    P00076|              22.0|             19.8|\n",
      "|       Chicago|2023-12-13 14:28:41|    P00037|            -578.0|           -520.2|\n",
      "|   San Antonio|2023-12-13 14:28:43|    P00070|             901.0|            810.9|\n",
      "|   Los Angeles|2023-12-13 14:28:45|    P00037|             637.0|573.3000000000001|\n",
      "|   San Antonio|2023-12-13 14:28:48|    P00037|             473.0|            425.7|\n",
      "|   San Antonio|2023-12-13 14:28:50|    P00001|             327.0|            294.3|\n",
      "|       Phoenix|2023-12-13 14:28:52|    P00025|             338.0|            304.2|\n",
      "|   San Antonio|2023-12-13 14:28:54|    P00050|             277.0|            249.3|\n",
      "|       Phoenix|2023-12-13 14:28:56|    P00055|             594.0|            534.6|\n",
      "+--------------+-------------------+----------+------------------+-----------------+\n",
      "\n"
     ]
    },
    {
     "name": "stderr",
     "output_type": "stream",
     "text": [
      "                                                                                \r"
     ]
    }
   ],
   "source": [
    "phys_transactions = with_discount.filter(col('store_location') != \"online\")\n",
    "phys_transactions.show()"
   ]
  },
  {
   "cell_type": "code",
   "execution_count": 13,
   "metadata": {},
   "outputs": [
    {
     "name": "stdout",
     "output_type": "stream",
     "text": [
      "+--------------+----------------------+\n",
      "|store_location|sum(discounted_amount)|\n",
      "+--------------+----------------------+\n",
      "|       Phoenix|                 858.6|\n",
      "|   San Antonio|    1780.1999999999998|\n",
      "|   Los Angeles|     573.3000000000001|\n",
      "|       Chicago|                -520.2|\n",
      "|      New York|                  73.8|\n",
      "+--------------+----------------------+\n",
      "\n"
     ]
    },
    {
     "name": "stderr",
     "output_type": "stream",
     "text": [
      "                                                                                \r"
     ]
    }
   ],
   "source": [
    "#group and agg\n",
    "store_sales = phys_transactions.groupBy(\"store_location\").agg({\"discounted_amount\": \"sum\"})\n",
    "\n",
    "store_sales.show()"
   ]
  },
  {
   "cell_type": "code",
   "execution_count": 14,
   "metadata": {},
   "outputs": [
    {
     "data": {
      "text/plain": [
       "<Figure size 1200x600 with 0 Axes>"
      ]
     },
     "metadata": {},
     "output_type": "display_data"
    },
    {
     "data": {
      "image/png": "[encoded data removed]",
      "text/plain": [
       "<Figure size 640x480 with 1 Axes>"
      ]
     },
     "metadata": {},
     "output_type": "display_data"
    },
    {
     "name": "stderr",
     "output_type": "stream",
     "text": [
      "                                                                                \r"
     ]
    }
   ],
   "source": [
    "#convert to pd df\n",
    "store_sales_pd = store_sales.toPandas()\n",
    "\n",
    "#plot\n",
    "import matplotlib.pyplot as plt\n",
    "\n",
    "plt.figure(figsize=(12,6))\n",
    "store_sales_pd.plot(kind='bar', x='store_location', y='sum(discounted_amount)', legend=False, color='orange')\n",
    "plt.ylabel('Total Physical Discounted Sales')\n",
    "plt.title('Total Discounted Sales per Physical Store Location')\n",
    "plt.xticks(rotation=45)\n",
    "plt.tight_layout()\n",
    "plt.show()"
   ]
  }
 ],
 "metadata": {
  "kernelspec": {
   "display_name": "Python 3",
   "language": "python",
   "name": "python3"
  },
  "language_info": {
   "codemirror_mode": {
    "name": "ipython",
    "version": 3
   },
   "file_extension": ".py",
   "mimetype": "text/x-python",
   "name": "python",
   "nbconvert_exporter": "python",
   "pygments_lexer": "ipython3",
   "version": "3.7.16"
  }
 },
 "nbformat": 4,
 "nbformat_minor": 2
}
