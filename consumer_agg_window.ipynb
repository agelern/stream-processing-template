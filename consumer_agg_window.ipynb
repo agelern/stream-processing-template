{
 "cells": [
  {
   "cell_type": "code",
   "execution_count": 1,
   "metadata": {},
   "outputs": [
    {
     "ename": "ModuleNotFoundError",
     "evalue": "No module named 'confluent_kafka'",
     "output_type": "error",
     "traceback": [
      "\u001b[0;31m---------------------------------------------------------------------------\u001b[0m",
      "\u001b[0;31mModuleNotFoundError\u001b[0m                       Traceback (most recent call last)",
      "Cell \u001b[0;32mIn[1], line 2\u001b[0m\n\u001b[1;32m      1\u001b[0m \u001b[38;5;28;01mfrom\u001b[39;00m \u001b[38;5;21;01mdatetime\u001b[39;00m \u001b[38;5;28;01mimport\u001b[39;00m datetime, timedelta\n\u001b[0;32m----> 2\u001b[0m \u001b[38;5;28;01mfrom\u001b[39;00m \u001b[38;5;21;01mconfluent_kafka\u001b[39;00m \u001b[38;5;28;01mimport\u001b[39;00m Consumer, KafkaError\n\u001b[1;32m      3\u001b[0m \u001b[38;5;28;01mimport\u001b[39;00m \u001b[38;5;21;01mjson\u001b[39;00m\n\u001b[1;32m      5\u001b[0m \u001b[38;5;66;03m# Kafka consumer configuration\u001b[39;00m\n",
      "\u001b[0;31mModuleNotFoundError\u001b[0m: No module named 'confluent_kafka'"
     ]
    }
   ],
   "source": [
    "from datetime import datetime, timedelta\n",
    "from confluent_kafka import Consumer, KafkaError\n",
    "import json\n",
    "\n",
    "# Kafka consumer configuration\n",
    "conf = {\n",
    "    'bootstrap.servers': 'b-1.monstercluster1.6xql65.c3.kafka.eu-west-2.amazonaws.com:9092',  # Replace with your broker URLs\n",
    "    'group.id': 'your_group_id',\n",
    "    'auto.offset.reset': 'earliest',\n",
    "}"
   ]
  },
  {
   "cell_type": "code",
   "execution_count": null,
   "metadata": {},
   "outputs": [],
   "source": [
    "\n",
    "consumer = Consumer(conf)\n",
    "consumer.subscribe(['monster-damage'])\n",
    "\n",
    "# Create an in-memory buffer to hold data for the current window\n",
    "current_window_start = datetime.now()\n",
    "current_window_end = current_window_start + timedelta(minutes=10)\n",
    "window_data = []\n",
    "\n",
    "def consume_message():\n",
    "    try:\n",
    "        while True:\n",
    "            msg = consumer.poll(1.0)\n",
    "            if msg is None:\n",
    "                continue\n",
    "            if msg.error():\n",
    "                if msg.error().code() == KafkaError._PARTITION_EOF:\n",
    "                    continue\n",
    "                else:\n",
    "                    print(msg.error())\n",
    "                    break\n",
    "\n",
    "            # Process the message\n",
    "            data = json.loads(msg.value().decode('utf-8'))\n",
    "            process_message(data)\n",
    "\n",
    "    finally:\n",
    "        consumer.close()\n"
   ]
  },
  {
   "cell_type": "code",
   "execution_count": null,
   "metadata": {},
   "outputs": [],
   "source": [
    "def process_message(data):\n",
    "    global current_window_start, current_window_end, window_data\n",
    "    timestamp = datetime.strptime(data['ts'], '%Y-%m-%d %H:%M:%S.%f')\n",
    "    \n",
    "    if current_window_start <= timestamp < current_window_end:\n",
    "        window_data.append(data)\n",
    "    else:\n",
    "        # Aggregate data for that window\n",
    "        aggregate_data()\n",
    "        # Start a new window\n",
    "        current_window_start = current_window_end\n",
    "        current_window_end = current_window_start + timedelta(minutes=10)\n",
    "        window_data = [data]"
   ]
  },
  {
   "cell_type": "code",
   "execution_count": null,
   "metadata": {},
   "outputs": [],
   "source": [
    "def aggregate_data():\n",
    "    continent_counts = {}\n",
    "    for entry in window_data:\n",
    "        continent = entry['continent']\n",
    "        continent_counts[continent] = continent_counts.get(continent, 0) + 1\n",
    "\n",
    "    print(f\"Monsters from {current_window_start} to {current_window_end}:\")\n",
    "    for continent, count in continent_counts.items():\n",
    "        print(f\"{continent}: {count} monsters\")\n",
    "\n",
    "consume_message()"
   ]
  }
 ],
 "metadata": {
  "kernelspec": {
   "display_name": "Python 3",
   "language": "python",
   "name": "python3"
  },
  "language_info": {
   "codemirror_mode": {
    "name": "ipython",
    "version": 3
   },
   "file_extension": ".py",
   "mimetype": "text/x-python",
   "name": "python",
   "nbconvert_exporter": "python",
   "pygments_lexer": "ipython3",
   "version": "3.12.1"
  }
 },
 "nbformat": 4,
 "nbformat_minor": 2
}
